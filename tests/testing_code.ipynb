{
 "cells": [
  {
   "cell_type": "markdown",
   "id": "2a8d89f6-e1fe-4d8e-afec-03f9b3537f26",
   "metadata": {},
   "source": [
    "# Testing BIBIMBpy"
   ]
  },
  {
   "cell_type": "code",
   "execution_count": 1,
   "id": "b696aa0f-f15b-4645-8b1d-b78e60468f4e",
   "metadata": {},
   "outputs": [],
   "source": [
    "import numpy as np\n",
    "import matplotlib.pyplot as plt"
   ]
  },
  {
   "cell_type": "code",
   "execution_count": 2,
   "id": "a172db06-15eb-4004-ac0a-0ce2c1888a73",
   "metadata": {},
   "outputs": [],
   "source": [
    "import agama\n",
    "\n",
    "agama.setUnits(mass = 1, length = 1, velocity = 1)"
   ]
  },
  {
   "cell_type": "code",
   "execution_count": 3,
   "id": "e189661e-c8a5-4c4b-8e41-ed1ea2a630f0",
   "metadata": {},
   "outputs": [],
   "source": [
    "import bibimbpy"
   ]
  },
  {
   "cell_type": "code",
   "execution_count": null,
   "id": "500ee6b9-fe17-4dba-94ee-ab9617d26be2",
   "metadata": {},
   "outputs": [],
   "source": []
  },
  {
   "cell_type": "markdown",
   "id": "02f58a14-50a5-4c90-905d-7310fa3e09bf",
   "metadata": {},
   "source": [
    "## create initial conditions"
   ]
  },
  {
   "cell_type": "code",
   "execution_count": 4,
   "id": "5bf13000-ebc0-4c63-a5c4-edbf8fa03c9a",
   "metadata": {},
   "outputs": [],
   "source": [
    "r_ic = 8\n",
    "phi_ic = 0\n",
    "z_ic = 0\n",
    "vz_ic = 0\n",
    "\n",
    "vr_ic = np.linspace(-100,100,100)\n",
    "vphi_ic = np.linspace(-400,-100,100)"
   ]
  },
  {
   "cell_type": "code",
   "execution_count": 7,
   "id": "09f7a059-6b1d-4d04-87a0-8494d51151a6",
   "metadata": {},
   "outputs": [],
   "source": [
    "ic,var1,var2 = bibimbpy.initialize.set_initial_conditions(r_ic,phi_ic,z_ic,vr_ic,vphi_ic,vz_ic)"
   ]
  },
  {
   "cell_type": "code",
   "execution_count": 8,
   "id": "62ac1743-7823-43a0-9f9e-d1d498da6325",
   "metadata": {},
   "outputs": [
    {
     "data": {
      "text/plain": [
       "(10000, 6)"
      ]
     },
     "execution_count": 8,
     "metadata": {},
     "output_type": "execute_result"
    }
   ],
   "source": [
    "ic.shape"
   ]
  },
  {
   "cell_type": "code",
   "execution_count": null,
   "id": "6fcc5ee6-8189-4552-bb10-529f86c4f98a",
   "metadata": {},
   "outputs": [],
   "source": []
  },
  {
   "cell_type": "markdown",
   "id": "32b2a945-003e-498e-ba69-c8a5b4d0e200",
   "metadata": {},
   "source": [
    "## Generate axisymmetric potential"
   ]
  },
  {
   "cell_type": "code",
   "execution_count": null,
   "id": "c18c34c9-1fee-4585-b29b-86e7aa357989",
   "metadata": {},
   "outputs": [],
   "source": []
  }
 ],
 "metadata": {
  "kernelspec": {
   "display_name": "Python 3 (ipykernel)",
   "language": "python",
   "name": "python3"
  },
  "language_info": {
   "codemirror_mode": {
    "name": "ipython",
    "version": 3
   },
   "file_extension": ".py",
   "mimetype": "text/x-python",
   "name": "python",
   "nbconvert_exporter": "python",
   "pygments_lexer": "ipython3",
   "version": "3.10.6"
  }
 },
 "nbformat": 4,
 "nbformat_minor": 5
}
