{
 "cells": [
  {
   "cell_type": "markdown",
   "id": "2a8d89f6-e1fe-4d8e-afec-03f9b3537f26",
   "metadata": {},
   "source": [
    "# Testing BIBIMBpy"
   ]
  },
  {
   "cell_type": "code",
   "execution_count": 1,
   "id": "b696aa0f-f15b-4645-8b1d-b78e60468f4e",
   "metadata": {},
   "outputs": [],
   "source": [
    "import numpy as np\n",
    "import matplotlib.pyplot as plt"
   ]
  },
  {
   "cell_type": "code",
   "execution_count": 2,
   "id": "a172db06-15eb-4004-ac0a-0ce2c1888a73",
   "metadata": {},
   "outputs": [],
   "source": [
    "import agama\n",
    "\n",
    "agama.setUnits(mass = 1, length = 1, velocity = 1)"
   ]
  },
  {
   "cell_type": "code",
   "execution_count": 3,
   "id": "e189661e-c8a5-4c4b-8e41-ed1ea2a630f0",
   "metadata": {},
   "outputs": [],
   "source": [
    "import bibimbpy"
   ]
  },
  {
   "cell_type": "code",
   "execution_count": null,
   "id": "500ee6b9-fe17-4dba-94ee-ab9617d26be2",
   "metadata": {},
   "outputs": [],
   "source": []
  },
  {
   "cell_type": "markdown",
   "id": "02f58a14-50a5-4c90-905d-7310fa3e09bf",
   "metadata": {},
   "source": [
    "## create initial conditions"
   ]
  },
  {
   "cell_type": "code",
   "execution_count": 4,
   "id": "5bf13000-ebc0-4c63-a5c4-edbf8fa03c9a",
   "metadata": {},
   "outputs": [],
   "source": [
    "r_ic = 8\n",
    "phi_ic = 0\n",
    "z_ic = 0\n",
    "vz_ic = 0\n",
    "\n",
    "vr_ic = np.linspace(-100,100,100)\n",
    "vphi_ic = np.linspace(-400,-100,100)"
   ]
  },
  {
   "cell_type": "code",
   "execution_count": 5,
   "id": "09f7a059-6b1d-4d04-87a0-8494d51151a6",
   "metadata": {},
   "outputs": [
    {
     "ename": "TypeError",
     "evalue": "'builtin_function_or_method' object is not subscriptable",
     "output_type": "error",
     "traceback": [
      "\u001b[0;31m---------------------------------------------------------------------------\u001b[0m",
      "\u001b[0;31mTypeError\u001b[0m                                 Traceback (most recent call last)",
      "Input \u001b[0;32mIn [5]\u001b[0m, in \u001b[0;36m<cell line: 1>\u001b[0;34m()\u001b[0m\n\u001b[0;32m----> 1\u001b[0m ic \u001b[38;5;241m=\u001b[39m \u001b[43mbibimbpy\u001b[49m\u001b[38;5;241;43m.\u001b[39;49m\u001b[43minitialize\u001b[49m\u001b[38;5;241;43m.\u001b[39;49m\u001b[43mset_initial_conditions\u001b[49m\u001b[43m(\u001b[49m\u001b[43mr_ic\u001b[49m\u001b[43m,\u001b[49m\u001b[43mphi_ic\u001b[49m\u001b[43m,\u001b[49m\u001b[43mz_ic\u001b[49m\u001b[43m,\u001b[49m\u001b[43mvr_ic\u001b[49m\u001b[43m,\u001b[49m\u001b[43mvphi_ic\u001b[49m\u001b[43m,\u001b[49m\u001b[43mvz_ic\u001b[49m\u001b[43m)\u001b[49m\n",
      "File \u001b[0;32m~/miniconda3/envs/agama/lib/python3.10/site-packages/BIBIMBpy-0.0-py3.10.egg/bibimbpy/initialize.py:62\u001b[0m, in \u001b[0;36mset_initial_conditions\u001b[0;34m(r, phi, z, vr, vphi, vz)\u001b[0m\n\u001b[1;32m     60\u001b[0m \u001b[38;5;66;03m#Cross variables with a meshgrid (accounting for all the cases)\u001b[39;00m\n\u001b[1;32m     61\u001b[0m \u001b[38;5;28;01mif\u001b[39;00m \u001b[38;5;28mlen\u001b[39m(iter_vars\u001b[38;5;241m.\u001b[39mkeys())\u001b[38;5;241m==\u001b[39m\u001b[38;5;241m2\u001b[39m:\n\u001b[0;32m---> 62\u001b[0m     var1,var2 \u001b[38;5;241m=\u001b[39m np\u001b[38;5;241m.\u001b[39mmeshgrid(\u001b[43miter_vars\u001b[49m\u001b[38;5;241;43m.\u001b[39;49m\u001b[43mitems\u001b[49m\u001b[43m[\u001b[49m\u001b[38;5;241;43m0\u001b[39;49m\u001b[43m]\u001b[49m,iter_vars\u001b[38;5;241m.\u001b[39mitems[\u001b[38;5;241m1\u001b[39m],indexing\u001b[38;5;241m=\u001b[39m\u001b[38;5;124m\"\u001b[39m\u001b[38;5;124mij\u001b[39m\u001b[38;5;124m\"\u001b[39m)\n\u001b[1;32m     63\u001b[0m     final_vars[\u001b[38;5;28mvars\u001b[39m\u001b[38;5;241m.\u001b[39mkey[\u001b[38;5;241m0\u001b[39m]] \u001b[38;5;241m=\u001b[39m var1\u001b[38;5;241m.\u001b[39mflatten()\n\u001b[1;32m     64\u001b[0m     final_vars[\u001b[38;5;28mvars\u001b[39m\u001b[38;5;241m.\u001b[39mkey[\u001b[38;5;241m1\u001b[39m]] \u001b[38;5;241m=\u001b[39m var2\u001b[38;5;241m.\u001b[39mflatten()\n",
      "\u001b[0;31mTypeError\u001b[0m: 'builtin_function_or_method' object is not subscriptable"
     ]
    }
   ],
   "source": [
    "ic = bibimbpy.initialize.set_initial_conditions(r_ic,phi_ic,z_ic,vr_ic,vphi_ic,vz_ic)"
   ]
  },
  {
   "cell_type": "code",
   "execution_count": null,
   "id": "62ac1743-7823-43a0-9f9e-d1d498da6325",
   "metadata": {},
   "outputs": [],
   "source": []
  },
  {
   "cell_type": "code",
   "execution_count": null,
   "id": "a959bd0b-b671-45fb-9749-cc72613c9d9b",
   "metadata": {},
   "outputs": [],
   "source": []
  }
 ],
 "metadata": {
  "kernelspec": {
   "display_name": "Python 3 (ipykernel)",
   "language": "python",
   "name": "python3"
  },
  "language_info": {
   "codemirror_mode": {
    "name": "ipython",
    "version": 3
   },
   "file_extension": ".py",
   "mimetype": "text/x-python",
   "name": "python",
   "nbconvert_exporter": "python",
   "pygments_lexer": "ipython3",
   "version": "3.10.6"
  }
 },
 "nbformat": 4,
 "nbformat_minor": 5
}
